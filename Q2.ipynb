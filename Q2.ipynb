{
 "cells": [
  {
   "cell_type": "markdown",
   "id": "6e7a33f6",
   "metadata": {},
   "source": []
  },
  {
   "cell_type": "code",
   "execution_count": 14,
   "id": "ae990d4f",
   "metadata": {},
   "outputs": [],
   "source": [
    "import os\n",
    "\n",
    "# Make sure the \"data\" folder exists\n",
    "if not os.path.exists('data'):\n",
    "    os.makedirs('data')\n",
    "\n",
    "\n"
   ]
  },
  {
   "cell_type": "code",
   "execution_count": 15,
   "id": "f9083848",
   "metadata": {},
   "outputs": [
    {
     "name": "stdout",
     "output_type": "stream",
     "text": [
      "INFO: Query finished. [astroquery.utils.tap.core]\n"
     ]
    }
   ],
   "source": [
    "from astroquery.gaia import Gaia\n",
    "from astropy.table import Table\n",
    "\n",
    "# ADQL query to get Gaia DR3 sources near Ruprecht 147\n",
    "query_gaia = \"\"\"\n",
    "SELECT *\n",
    "FROM gaiadr3.gaia_source\n",
    "WHERE 1 = CONTAINS(\n",
    "        POINT('ICRS', ra, dec),\n",
    "        CIRCLE('ICRS', 289.074, -16.323, 1.0)\n",
    "      )\n",
    "  AND phot_g_mean_mag < 14\n",
    "\"\"\"\n",
    "\n",
    "# Launch the ADQL query asynchronously\n",
    "job_gaia = Gaia.launch_job_async(query_gaia)\n",
    "\n",
    "# Get the results as an Astropy Table\n",
    "rup147_gaia = job_gaia.get_results()\n",
    "rup147_gaia.write('data/rup147_gaia.csv', format='csv', overwrite=True)\n",
    "\n"
   ]
  },
  {
   "cell_type": "code",
   "execution_count": 23,
   "id": "e070f4e1",
   "metadata": {},
   "outputs": [],
   "source": [
    "# Extract only the Gaia DR3 source IDs for crossmatching\n",
    "galah_data = Table.read('data/rup147_gaia.csv')\n",
    "galah_data['new_source_id'] = galah_data['source_id']\n",
    "gaia_source_ids = galah_data['source_id'].tolist()\n",
    "\n",
    "# Convert the source IDs to an Astropy table to use in the query (to not upload too much data)\n",
    "# with the actual identifier in Gaia DR3 (source_id)\n",
    "gaia_source_ids_table = Table([gaia_source_ids], names=['source_id'])\n",
    "gaia_source_ids_table.write('data/gaia_source_ids_table.csv', format='csv', overwrite=True)"
   ]
  },
  {
   "cell_type": "code",
   "execution_count": 21,
   "id": "fef00e3f",
   "metadata": {},
   "outputs": [
    {
     "data": {
      "text/html": [
       "<div><i>Table length=5</i>\n",
       "<table id=\"table127962192371088\" class=\"table-striped table-bordered table-condensed\">\n",
       "<thead><tr><th>source_id</th></tr></thead>\n",
       "<thead><tr><th>int64</th></tr></thead>\n",
       "<tr><td>4088892600474423808</td></tr>\n",
       "<tr><td>4088893154546972672</td></tr>\n",
       "<tr><td>4088893188906716032</td></tr>\n",
       "<tr><td>4087815667506086656</td></tr>\n",
       "<tr><td>4087815697559746304</td></tr>\n",
       "</table></div>"
      ],
      "text/plain": [
       "<Table length=5>\n",
       "     source_id     \n",
       "       int64       \n",
       "-------------------\n",
       "4088892600474423808\n",
       "4088893154546972672\n",
       "4088893188906716032\n",
       "4087815667506086656\n",
       "4087815697559746304"
      ]
     },
     "execution_count": 21,
     "metadata": {},
     "output_type": "execute_result"
    }
   ],
   "source": [
    "gaia_source_ids_table[:5]  # Display the first 5 source IDs"
   ]
  },
  {
   "cell_type": "code",
   "execution_count": 25,
   "id": "7cc7ad31",
   "metadata": {},
   "outputs": [],
   "source": [
    "query=\"\"\"\n",
    "SELECT *\n",
    "FROM TAP_UPLOAD.t1 AS g\n",
    "JOIN gaiadr3.tmass_psc_xsc_best_neighbour AS x\n",
    "    ON g.source_id = x.source_id\n",
    "JOIN gaiadr3.tmass_psc AS tm\n",
    "    ON x.tmass_psc_id = tm.tmass_psc_id\n",
    "\"\"\"\n"
   ]
  },
  {
   "cell_type": "code",
   "execution_count": 26,
   "id": "437db661",
   "metadata": {},
   "outputs": [
    {
     "name": "stdout",
     "output_type": "stream",
     "text": [
      "500 Error 500:\n",
      "null\n"
     ]
    },
    {
     "ename": "HTTPError",
     "evalue": "Error 500:\nnull",
     "output_type": "error",
     "traceback": [
      "\u001b[0;31m---------------------------------------------------------------------------\u001b[0m",
      "\u001b[0;31mHTTPError\u001b[0m                                 Traceback (most recent call last)",
      "Cell \u001b[0;32mIn[26], line 1\u001b[0m\n\u001b[0;32m----> 1\u001b[0m job \u001b[38;5;241m=\u001b[39m Gaia\u001b[38;5;241m.\u001b[39mlaunch_job_async(query\u001b[38;5;241m=\u001b[39mquery, upload_resource\u001b[38;5;241m=\u001b[39mgaia_source_ids_table, upload_table_name\u001b[38;5;241m=\u001b[39m\u001b[38;5;124m\"\u001b[39m\u001b[38;5;124mt1\u001b[39m\u001b[38;5;124m\"\u001b[39m)\n",
      "File \u001b[0;32m~/anaconda3/lib/python3.13/site-packages/astroquery/gaia/core.py:1154\u001b[0m, in \u001b[0;36mGaiaClass.launch_job_async\u001b[0;34m(self, query, name, output_file, output_format, verbose, dump_to_file, background, upload_resource, upload_table_name, autorun)\u001b[0m\n\u001b[1;32m   1113\u001b[0m \u001b[38;5;28;01mdef\u001b[39;00m\u001b[38;5;250m \u001b[39m\u001b[38;5;21mlaunch_job_async\u001b[39m(\u001b[38;5;28mself\u001b[39m, query, \u001b[38;5;241m*\u001b[39m, name\u001b[38;5;241m=\u001b[39m\u001b[38;5;28;01mNone\u001b[39;00m, output_file\u001b[38;5;241m=\u001b[39m\u001b[38;5;28;01mNone\u001b[39;00m,\n\u001b[1;32m   1114\u001b[0m                      output_format\u001b[38;5;241m=\u001b[39m\u001b[38;5;124m\"\u001b[39m\u001b[38;5;124mvotable_gzip\u001b[39m\u001b[38;5;124m\"\u001b[39m, verbose\u001b[38;5;241m=\u001b[39m\u001b[38;5;28;01mFalse\u001b[39;00m,\n\u001b[1;32m   1115\u001b[0m                      dump_to_file\u001b[38;5;241m=\u001b[39m\u001b[38;5;28;01mFalse\u001b[39;00m, background\u001b[38;5;241m=\u001b[39m\u001b[38;5;28;01mFalse\u001b[39;00m,\n\u001b[1;32m   1116\u001b[0m                      upload_resource\u001b[38;5;241m=\u001b[39m\u001b[38;5;28;01mNone\u001b[39;00m, upload_table_name\u001b[38;5;241m=\u001b[39m\u001b[38;5;28;01mNone\u001b[39;00m,\n\u001b[1;32m   1117\u001b[0m                      autorun\u001b[38;5;241m=\u001b[39m\u001b[38;5;28;01mTrue\u001b[39;00m):\n\u001b[1;32m   1118\u001b[0m \u001b[38;5;250m    \u001b[39m\u001b[38;5;124;03m\"\"\"Launches an asynchronous job\u001b[39;00m\n\u001b[1;32m   1119\u001b[0m \n\u001b[1;32m   1120\u001b[0m \u001b[38;5;124;03m    Parameters\u001b[39;00m\n\u001b[0;32m   (...)\u001b[0m\n\u001b[1;32m   1152\u001b[0m \u001b[38;5;124;03m    A Job object\u001b[39;00m\n\u001b[1;32m   1153\u001b[0m \u001b[38;5;124;03m    \"\"\"\u001b[39;00m\n\u001b[0;32m-> 1154\u001b[0m     \u001b[38;5;28;01mreturn\u001b[39;00m TapPlus\u001b[38;5;241m.\u001b[39mlaunch_job_async(\u001b[38;5;28mself\u001b[39m, query\u001b[38;5;241m=\u001b[39mquery,\n\u001b[1;32m   1155\u001b[0m                                     name\u001b[38;5;241m=\u001b[39mname,\n\u001b[1;32m   1156\u001b[0m                                     output_file\u001b[38;5;241m=\u001b[39moutput_file,\n\u001b[1;32m   1157\u001b[0m                                     output_format\u001b[38;5;241m=\u001b[39moutput_format,\n\u001b[1;32m   1158\u001b[0m                                     verbose\u001b[38;5;241m=\u001b[39mverbose,\n\u001b[1;32m   1159\u001b[0m                                     dump_to_file\u001b[38;5;241m=\u001b[39mdump_to_file,\n\u001b[1;32m   1160\u001b[0m                                     background\u001b[38;5;241m=\u001b[39mbackground,\n\u001b[1;32m   1161\u001b[0m                                     upload_resource\u001b[38;5;241m=\u001b[39mupload_resource,\n\u001b[1;32m   1162\u001b[0m                                     upload_table_name\u001b[38;5;241m=\u001b[39mupload_table_name,\n\u001b[1;32m   1163\u001b[0m                                     autorun\u001b[38;5;241m=\u001b[39mautorun,\n\u001b[1;32m   1164\u001b[0m                                     format_with_results_compressed\u001b[38;5;241m=\u001b[39m(\u001b[38;5;124m'\u001b[39m\u001b[38;5;124mvotable_gzip\u001b[39m\u001b[38;5;124m'\u001b[39m,))\n",
      "File \u001b[0;32m~/anaconda3/lib/python3.13/site-packages/astroquery/utils/tap/core.py:480\u001b[0m, in \u001b[0;36mTap.launch_job_async\u001b[0;34m(self, query, name, output_file, output_format, verbose, dump_to_file, background, upload_resource, upload_table_name, autorun, maxrec, format_with_results_compressed)\u001b[0m\n\u001b[1;32m    478\u001b[0m                 job\u001b[38;5;241m.\u001b[39msave_results(verbose\u001b[38;5;241m=\u001b[39mverbose)\n\u001b[1;32m    479\u001b[0m             \u001b[38;5;28;01melse\u001b[39;00m:\n\u001b[0;32m--> 480\u001b[0m                 job\u001b[38;5;241m.\u001b[39mget_results()\n\u001b[1;32m    481\u001b[0m                 log\u001b[38;5;241m.\u001b[39minfo(\u001b[38;5;124m\"\u001b[39m\u001b[38;5;124mQuery finished.\u001b[39m\u001b[38;5;124m\"\u001b[39m)\n\u001b[1;32m    482\u001b[0m \u001b[38;5;28;01mreturn\u001b[39;00m job\n",
      "File \u001b[0;32m~/anaconda3/lib/python3.13/site-packages/astroquery/utils/tap/model/job.py:247\u001b[0m, in \u001b[0;36mJob.get_results\u001b[0;34m(self)\u001b[0m\n\u001b[1;32m    244\u001b[0m     \u001b[38;5;28;01mreturn\u001b[39;00m \u001b[38;5;28;01mNone\u001b[39;00m\n\u001b[1;32m    245\u001b[0m \u001b[38;5;28;01melse\u001b[39;00m:\n\u001b[1;32m    246\u001b[0m     \u001b[38;5;66;03m# async: result is in the server once the job is finished\u001b[39;00m\n\u001b[0;32m--> 247\u001b[0m     \u001b[38;5;28mself\u001b[39m\u001b[38;5;241m.\u001b[39m__load_async_job_results()\n\u001b[1;32m    248\u001b[0m     \u001b[38;5;28;01mreturn\u001b[39;00m \u001b[38;5;28mself\u001b[39m\u001b[38;5;241m.\u001b[39mresults\n",
      "File \u001b[0;32m~/anaconda3/lib/python3.13/site-packages/astroquery/utils/tap/model/job.py:353\u001b[0m, in \u001b[0;36mJob.__load_async_job_results\u001b[0;34m(self, debug)\u001b[0m\n\u001b[1;32m    348\u001b[0m     \u001b[38;5;28mprint\u001b[39m(resultsResponse\u001b[38;5;241m.\u001b[39mgetheaders())\n\u001b[1;32m    350\u001b[0m resultsResponse \u001b[38;5;241m=\u001b[39m \u001b[38;5;28mself\u001b[39m\u001b[38;5;241m.\u001b[39m__handle_redirect_if_required(resultsResponse,\n\u001b[1;32m    351\u001b[0m                                                      verbose\u001b[38;5;241m=\u001b[39mdebug)\n\u001b[1;32m    352\u001b[0m isError \u001b[38;5;241m=\u001b[39m \u001b[38;5;28mself\u001b[39m\u001b[38;5;241m.\u001b[39mconnHandler\u001b[38;5;241m.\u001b[39m \\\n\u001b[0;32m--> 353\u001b[0m     check_launch_response_status(resultsResponse,\n\u001b[1;32m    354\u001b[0m                                  debug,\n\u001b[1;32m    355\u001b[0m                                  \u001b[38;5;241m200\u001b[39m)\n\u001b[1;32m    356\u001b[0m \u001b[38;5;28mself\u001b[39m\u001b[38;5;241m.\u001b[39m_phase \u001b[38;5;241m=\u001b[39m phase\n\u001b[1;32m    357\u001b[0m \u001b[38;5;28;01mif\u001b[39;00m phase \u001b[38;5;241m==\u001b[39m \u001b[38;5;124m'\u001b[39m\u001b[38;5;124mERROR\u001b[39m\u001b[38;5;124m'\u001b[39m:\n",
      "File \u001b[0;32m~/anaconda3/lib/python3.13/site-packages/astroquery/utils/tap/conn/tapconn.py:688\u001b[0m, in \u001b[0;36mTapConn.check_launch_response_status\u001b[0;34m(self, response, debug, expected_response_status, raise_exception)\u001b[0m\n\u001b[1;32m    686\u001b[0m     errMsg \u001b[38;5;241m=\u001b[39m taputils\u001b[38;5;241m.\u001b[39mget_http_response_error(response)\n\u001b[1;32m    687\u001b[0m     \u001b[38;5;28mprint\u001b[39m(response\u001b[38;5;241m.\u001b[39mstatus, errMsg)\n\u001b[0;32m--> 688\u001b[0m     \u001b[38;5;28;01mraise\u001b[39;00m requests\u001b[38;5;241m.\u001b[39mexceptions\u001b[38;5;241m.\u001b[39mHTTPError(errMsg)\n\u001b[1;32m    689\u001b[0m \u001b[38;5;28;01melse\u001b[39;00m:\n\u001b[1;32m    690\u001b[0m     \u001b[38;5;28;01mreturn\u001b[39;00m isError\n",
      "\u001b[0;31mHTTPError\u001b[0m: Error 500:\nnull"
     ]
    }
   ],
   "source": [
    "job = Gaia.launch_job_async(query=query, upload_resource=gaia_source_ids_table, upload_table_name=\"t1\")"
   ]
  },
  {
   "cell_type": "code",
   "execution_count": 27,
   "id": "fdd1847f",
   "metadata": {},
   "outputs": [
    {
     "name": "stdout",
     "output_type": "stream",
     "text": [
      "500 Error 500:\n",
      "null\n"
     ]
    },
    {
     "ename": "HTTPError",
     "evalue": "Error 500:\nnull",
     "output_type": "error",
     "traceback": [
      "\u001b[0;31m---------------------------------------------------------------------------\u001b[0m",
      "\u001b[0;31mHTTPError\u001b[0m                                 Traceback (most recent call last)",
      "Cell \u001b[0;32mIn[27], line 4\u001b[0m\n\u001b[1;32m      1\u001b[0m \u001b[38;5;66;03m# Try with only the first 10 IDs\u001b[39;00m\n\u001b[1;32m      2\u001b[0m gaia_source_ids_table_small \u001b[38;5;241m=\u001b[39m Table([gaia_source_ids[:\u001b[38;5;241m10\u001b[39m]], names\u001b[38;5;241m=\u001b[39m[\u001b[38;5;124m'\u001b[39m\u001b[38;5;124msource_id\u001b[39m\u001b[38;5;124m'\u001b[39m])\n\u001b[0;32m----> 4\u001b[0m job \u001b[38;5;241m=\u001b[39m Gaia\u001b[38;5;241m.\u001b[39mlaunch_job_async(\n\u001b[1;32m      5\u001b[0m     query\u001b[38;5;241m=\u001b[39mquery,\n\u001b[1;32m      6\u001b[0m     upload_resource\u001b[38;5;241m=\u001b[39mgaia_source_ids_table_small,\n\u001b[1;32m      7\u001b[0m     upload_table_name\u001b[38;5;241m=\u001b[39m\u001b[38;5;124m\"\u001b[39m\u001b[38;5;124mt1\u001b[39m\u001b[38;5;124m\"\u001b[39m\n\u001b[1;32m      8\u001b[0m )\n",
      "File \u001b[0;32m~/anaconda3/lib/python3.13/site-packages/astroquery/gaia/core.py:1154\u001b[0m, in \u001b[0;36mGaiaClass.launch_job_async\u001b[0;34m(self, query, name, output_file, output_format, verbose, dump_to_file, background, upload_resource, upload_table_name, autorun)\u001b[0m\n\u001b[1;32m   1113\u001b[0m \u001b[38;5;28;01mdef\u001b[39;00m\u001b[38;5;250m \u001b[39m\u001b[38;5;21mlaunch_job_async\u001b[39m(\u001b[38;5;28mself\u001b[39m, query, \u001b[38;5;241m*\u001b[39m, name\u001b[38;5;241m=\u001b[39m\u001b[38;5;28;01mNone\u001b[39;00m, output_file\u001b[38;5;241m=\u001b[39m\u001b[38;5;28;01mNone\u001b[39;00m,\n\u001b[1;32m   1114\u001b[0m                      output_format\u001b[38;5;241m=\u001b[39m\u001b[38;5;124m\"\u001b[39m\u001b[38;5;124mvotable_gzip\u001b[39m\u001b[38;5;124m\"\u001b[39m, verbose\u001b[38;5;241m=\u001b[39m\u001b[38;5;28;01mFalse\u001b[39;00m,\n\u001b[1;32m   1115\u001b[0m                      dump_to_file\u001b[38;5;241m=\u001b[39m\u001b[38;5;28;01mFalse\u001b[39;00m, background\u001b[38;5;241m=\u001b[39m\u001b[38;5;28;01mFalse\u001b[39;00m,\n\u001b[1;32m   1116\u001b[0m                      upload_resource\u001b[38;5;241m=\u001b[39m\u001b[38;5;28;01mNone\u001b[39;00m, upload_table_name\u001b[38;5;241m=\u001b[39m\u001b[38;5;28;01mNone\u001b[39;00m,\n\u001b[1;32m   1117\u001b[0m                      autorun\u001b[38;5;241m=\u001b[39m\u001b[38;5;28;01mTrue\u001b[39;00m):\n\u001b[1;32m   1118\u001b[0m \u001b[38;5;250m    \u001b[39m\u001b[38;5;124;03m\"\"\"Launches an asynchronous job\u001b[39;00m\n\u001b[1;32m   1119\u001b[0m \n\u001b[1;32m   1120\u001b[0m \u001b[38;5;124;03m    Parameters\u001b[39;00m\n\u001b[0;32m   (...)\u001b[0m\n\u001b[1;32m   1152\u001b[0m \u001b[38;5;124;03m    A Job object\u001b[39;00m\n\u001b[1;32m   1153\u001b[0m \u001b[38;5;124;03m    \"\"\"\u001b[39;00m\n\u001b[0;32m-> 1154\u001b[0m     \u001b[38;5;28;01mreturn\u001b[39;00m TapPlus\u001b[38;5;241m.\u001b[39mlaunch_job_async(\u001b[38;5;28mself\u001b[39m, query\u001b[38;5;241m=\u001b[39mquery,\n\u001b[1;32m   1155\u001b[0m                                     name\u001b[38;5;241m=\u001b[39mname,\n\u001b[1;32m   1156\u001b[0m                                     output_file\u001b[38;5;241m=\u001b[39moutput_file,\n\u001b[1;32m   1157\u001b[0m                                     output_format\u001b[38;5;241m=\u001b[39moutput_format,\n\u001b[1;32m   1158\u001b[0m                                     verbose\u001b[38;5;241m=\u001b[39mverbose,\n\u001b[1;32m   1159\u001b[0m                                     dump_to_file\u001b[38;5;241m=\u001b[39mdump_to_file,\n\u001b[1;32m   1160\u001b[0m                                     background\u001b[38;5;241m=\u001b[39mbackground,\n\u001b[1;32m   1161\u001b[0m                                     upload_resource\u001b[38;5;241m=\u001b[39mupload_resource,\n\u001b[1;32m   1162\u001b[0m                                     upload_table_name\u001b[38;5;241m=\u001b[39mupload_table_name,\n\u001b[1;32m   1163\u001b[0m                                     autorun\u001b[38;5;241m=\u001b[39mautorun,\n\u001b[1;32m   1164\u001b[0m                                     format_with_results_compressed\u001b[38;5;241m=\u001b[39m(\u001b[38;5;124m'\u001b[39m\u001b[38;5;124mvotable_gzip\u001b[39m\u001b[38;5;124m'\u001b[39m,))\n",
      "File \u001b[0;32m~/anaconda3/lib/python3.13/site-packages/astroquery/utils/tap/core.py:480\u001b[0m, in \u001b[0;36mTap.launch_job_async\u001b[0;34m(self, query, name, output_file, output_format, verbose, dump_to_file, background, upload_resource, upload_table_name, autorun, maxrec, format_with_results_compressed)\u001b[0m\n\u001b[1;32m    478\u001b[0m                 job\u001b[38;5;241m.\u001b[39msave_results(verbose\u001b[38;5;241m=\u001b[39mverbose)\n\u001b[1;32m    479\u001b[0m             \u001b[38;5;28;01melse\u001b[39;00m:\n\u001b[0;32m--> 480\u001b[0m                 job\u001b[38;5;241m.\u001b[39mget_results()\n\u001b[1;32m    481\u001b[0m                 log\u001b[38;5;241m.\u001b[39minfo(\u001b[38;5;124m\"\u001b[39m\u001b[38;5;124mQuery finished.\u001b[39m\u001b[38;5;124m\"\u001b[39m)\n\u001b[1;32m    482\u001b[0m \u001b[38;5;28;01mreturn\u001b[39;00m job\n",
      "File \u001b[0;32m~/anaconda3/lib/python3.13/site-packages/astroquery/utils/tap/model/job.py:247\u001b[0m, in \u001b[0;36mJob.get_results\u001b[0;34m(self)\u001b[0m\n\u001b[1;32m    244\u001b[0m     \u001b[38;5;28;01mreturn\u001b[39;00m \u001b[38;5;28;01mNone\u001b[39;00m\n\u001b[1;32m    245\u001b[0m \u001b[38;5;28;01melse\u001b[39;00m:\n\u001b[1;32m    246\u001b[0m     \u001b[38;5;66;03m# async: result is in the server once the job is finished\u001b[39;00m\n\u001b[0;32m--> 247\u001b[0m     \u001b[38;5;28mself\u001b[39m\u001b[38;5;241m.\u001b[39m__load_async_job_results()\n\u001b[1;32m    248\u001b[0m     \u001b[38;5;28;01mreturn\u001b[39;00m \u001b[38;5;28mself\u001b[39m\u001b[38;5;241m.\u001b[39mresults\n",
      "File \u001b[0;32m~/anaconda3/lib/python3.13/site-packages/astroquery/utils/tap/model/job.py:353\u001b[0m, in \u001b[0;36mJob.__load_async_job_results\u001b[0;34m(self, debug)\u001b[0m\n\u001b[1;32m    348\u001b[0m     \u001b[38;5;28mprint\u001b[39m(resultsResponse\u001b[38;5;241m.\u001b[39mgetheaders())\n\u001b[1;32m    350\u001b[0m resultsResponse \u001b[38;5;241m=\u001b[39m \u001b[38;5;28mself\u001b[39m\u001b[38;5;241m.\u001b[39m__handle_redirect_if_required(resultsResponse,\n\u001b[1;32m    351\u001b[0m                                                      verbose\u001b[38;5;241m=\u001b[39mdebug)\n\u001b[1;32m    352\u001b[0m isError \u001b[38;5;241m=\u001b[39m \u001b[38;5;28mself\u001b[39m\u001b[38;5;241m.\u001b[39mconnHandler\u001b[38;5;241m.\u001b[39m \\\n\u001b[0;32m--> 353\u001b[0m     check_launch_response_status(resultsResponse,\n\u001b[1;32m    354\u001b[0m                                  debug,\n\u001b[1;32m    355\u001b[0m                                  \u001b[38;5;241m200\u001b[39m)\n\u001b[1;32m    356\u001b[0m \u001b[38;5;28mself\u001b[39m\u001b[38;5;241m.\u001b[39m_phase \u001b[38;5;241m=\u001b[39m phase\n\u001b[1;32m    357\u001b[0m \u001b[38;5;28;01mif\u001b[39;00m phase \u001b[38;5;241m==\u001b[39m \u001b[38;5;124m'\u001b[39m\u001b[38;5;124mERROR\u001b[39m\u001b[38;5;124m'\u001b[39m:\n",
      "File \u001b[0;32m~/anaconda3/lib/python3.13/site-packages/astroquery/utils/tap/conn/tapconn.py:688\u001b[0m, in \u001b[0;36mTapConn.check_launch_response_status\u001b[0;34m(self, response, debug, expected_response_status, raise_exception)\u001b[0m\n\u001b[1;32m    686\u001b[0m     errMsg \u001b[38;5;241m=\u001b[39m taputils\u001b[38;5;241m.\u001b[39mget_http_response_error(response)\n\u001b[1;32m    687\u001b[0m     \u001b[38;5;28mprint\u001b[39m(response\u001b[38;5;241m.\u001b[39mstatus, errMsg)\n\u001b[0;32m--> 688\u001b[0m     \u001b[38;5;28;01mraise\u001b[39;00m requests\u001b[38;5;241m.\u001b[39mexceptions\u001b[38;5;241m.\u001b[39mHTTPError(errMsg)\n\u001b[1;32m    689\u001b[0m \u001b[38;5;28;01melse\u001b[39;00m:\n\u001b[1;32m    690\u001b[0m     \u001b[38;5;28;01mreturn\u001b[39;00m isError\n",
      "\u001b[0;31mHTTPError\u001b[0m: Error 500:\nnull"
     ]
    }
   ],
   "source": [
    "# Try with only the first 10 IDs\n",
    "gaia_source_ids_table_small = Table([gaia_source_ids[:10]], names=['source_id'])\n",
    "\n",
    "job = Gaia.launch_job_async(\n",
    "    query=query,\n",
    "    upload_resource=gaia_source_ids_table_small,\n",
    "    upload_table_name=\"t1\"\n",
    ")\n"
   ]
  },
  {
   "cell_type": "code",
   "execution_count": null,
   "id": "6971c61f",
   "metadata": {},
   "outputs": [],
   "source": []
  }
 ],
 "metadata": {
  "kernelspec": {
   "display_name": "base",
   "language": "python",
   "name": "python3"
  },
  "language_info": {
   "codemirror_mode": {
    "name": "ipython",
    "version": 3
   },
   "file_extension": ".py",
   "mimetype": "text/x-python",
   "name": "python",
   "nbconvert_exporter": "python",
   "pygments_lexer": "ipython3",
   "version": "3.13.5"
  }
 },
 "nbformat": 4,
 "nbformat_minor": 5
}
